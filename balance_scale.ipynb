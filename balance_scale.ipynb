{
  "nbformat": 4,
  "nbformat_minor": 0,
  "metadata": {
    "colab": {
      "name": "balance_scale.ipynb",
      "provenance": [],
      "authorship_tag": "ABX9TyPXBIc+3H+IuFG76sD72Nr1",
      "include_colab_link": true
    },
    "kernelspec": {
      "name": "python3",
      "display_name": "Python 3"
    },
    "language_info": {
      "name": "python"
    }
  },
  "cells": [
    {
      "cell_type": "markdown",
      "metadata": {
        "id": "view-in-github",
        "colab_type": "text"
      },
      "source": [
        "<a href=\"https://colab.research.google.com/github/saadmarwan16/tensorflow_exercise/blob/main/balance_scale.ipynb\" target=\"_parent\"><img src=\"https://colab.research.google.com/assets/colab-badge.svg\" alt=\"Open In Colab\"/></a>"
      ]
    },
    {
      "cell_type": "code",
      "metadata": {
        "id": "p6cxRF05QO53"
      },
      "source": [
        "import tensorflow as tf\n",
        "from sklearn.model_selection import train_test_split\n",
        "from sklearn.preprocessing import LabelEncoder\n",
        "from pandas import read_csv\n",
        "import matplotlib.pyplot as plt"
      ],
      "execution_count": 1,
      "outputs": []
    },
    {
      "cell_type": "code",
      "metadata": {
        "id": "u-NK9yATfNUt"
      },
      "source": [
        "def split_data(X, Y):\n",
        "    return train_test_split(X, Y, test_size=0.33, random_state=1)"
      ],
      "execution_count": 2,
      "outputs": []
    },
    {
      "cell_type": "code",
      "metadata": {
        "id": "owIRtV7Ffg5T"
      },
      "source": [
        "def prepare_targets(y_train, y_test):\n",
        "    le = LabelEncoder()\n",
        "    le.fit(y_train)\n",
        "    y_train_enc = le.transform(y_train)\n",
        "    y_test_enc = le.transform(y_test)\n",
        "\n",
        "    return y_train_enc, y_test_enc"
      ],
      "execution_count": 3,
      "outputs": []
    },
    {
      "cell_type": "code",
      "metadata": {
        "id": "-hUGfoVifXBi"
      },
      "source": [
        "df = read_csv('balance-scale.data')"
      ],
      "execution_count": 4,
      "outputs": []
    },
    {
      "cell_type": "code",
      "metadata": {
        "colab": {
          "base_uri": "https://localhost:8080/"
        },
        "id": "BPEqg7HER4th",
        "outputId": "44613e09-a39d-4835-c752-ead98177d9b5"
      },
      "source": [
        "dataset = df.values\n",
        "X = dataset[:, 1:]\n",
        "Y = dataset[:, 0]\n",
        "X_train, X_test, y_train, y_test = split_data(X, Y)\n",
        "N, D = X_train.shape\n",
        "X_train.shape"
      ],
      "execution_count": 5,
      "outputs": [
        {
          "output_type": "execute_result",
          "data": {
            "text/plain": [
              "(418, 4)"
            ]
          },
          "metadata": {
            "tags": []
          },
          "execution_count": 5
        }
      ]
    },
    {
      "cell_type": "code",
      "metadata": {
        "id": "qb2gjNTyTDPj"
      },
      "source": [
        "y_train_enc, y_test_enc = prepare_targets(y_train, y_test)"
      ],
      "execution_count": 6,
      "outputs": []
    },
    {
      "cell_type": "code",
      "metadata": {
        "id": "dujKXT1NhFII"
      },
      "source": [
        "X_train = X_train.astype(int)\n",
        "X_test = X_test.astype(int)"
      ],
      "execution_count": 7,
      "outputs": []
    },
    {
      "cell_type": "code",
      "metadata": {
        "colab": {
          "base_uri": "https://localhost:8080/"
        },
        "id": "XZ71TY8oUrhH",
        "outputId": "6faa9283-d6ed-4f90-b6a0-cd84a439450b"
      },
      "source": [
        "model = tf.keras.models.Sequential([\n",
        "    tf.keras.layers.Dense(16, input_shape=(D, ), activation='relu'),\n",
        "    tf.keras.layers.Dense(32, activation='relu'),\n",
        "    tf.keras.layers.Dropout(0.1),\n",
        "    tf.keras.layers.Dense(64, activation='relu'),\n",
        "    tf.keras.layers.Dense(128, activation='relu'),\n",
        "    tf.keras.layers.Dropout(0.25),\n",
        "    tf.keras.layers.Dense(3, activation='softmax'),\n",
        "])\n",
        "\n",
        "model.compile(\n",
        "    optimizer='adam',\n",
        "    loss='sparse_categorical_crossentropy',\n",
        "    metrics=['accuracy'],\n",
        ")\n",
        "\n",
        "r = model.fit(X_train, y_train_enc, validation_data=(X_test, y_test_enc), epochs=100)"
      ],
      "execution_count": 8,
      "outputs": [
        {
          "output_type": "stream",
          "text": [
            "Epoch 1/100\n",
            "14/14 [==============================] - 1s 16ms/step - loss: 0.8790 - accuracy: 0.5933 - val_loss: 0.8285 - val_accuracy: 0.7476\n",
            "Epoch 2/100\n",
            "14/14 [==============================] - 0s 3ms/step - loss: 0.6404 - accuracy: 0.7919 - val_loss: 0.6120 - val_accuracy: 0.8495\n",
            "Epoch 3/100\n",
            "14/14 [==============================] - 0s 4ms/step - loss: 0.4900 - accuracy: 0.8541 - val_loss: 0.4420 - val_accuracy: 0.8544\n",
            "Epoch 4/100\n",
            "14/14 [==============================] - 0s 3ms/step - loss: 0.4077 - accuracy: 0.8612 - val_loss: 0.3757 - val_accuracy: 0.8544\n",
            "Epoch 5/100\n",
            "14/14 [==============================] - 0s 4ms/step - loss: 0.3549 - accuracy: 0.8756 - val_loss: 0.3647 - val_accuracy: 0.8544\n",
            "Epoch 6/100\n",
            "14/14 [==============================] - 0s 4ms/step - loss: 0.3696 - accuracy: 0.8684 - val_loss: 0.3296 - val_accuracy: 0.8689\n",
            "Epoch 7/100\n",
            "14/14 [==============================] - 0s 4ms/step - loss: 0.3303 - accuracy: 0.8900 - val_loss: 0.3588 - val_accuracy: 0.8398\n",
            "Epoch 8/100\n",
            "14/14 [==============================] - 0s 4ms/step - loss: 0.3144 - accuracy: 0.8900 - val_loss: 0.2965 - val_accuracy: 0.8738\n",
            "Epoch 9/100\n",
            "14/14 [==============================] - 0s 3ms/step - loss: 0.2937 - accuracy: 0.8947 - val_loss: 0.3002 - val_accuracy: 0.8592\n",
            "Epoch 10/100\n",
            "14/14 [==============================] - 0s 4ms/step - loss: 0.2459 - accuracy: 0.9163 - val_loss: 0.2796 - val_accuracy: 0.8592\n",
            "Epoch 11/100\n",
            "14/14 [==============================] - 0s 3ms/step - loss: 0.2640 - accuracy: 0.8876 - val_loss: 0.2657 - val_accuracy: 0.8592\n",
            "Epoch 12/100\n",
            "14/14 [==============================] - 0s 4ms/step - loss: 0.2415 - accuracy: 0.8971 - val_loss: 0.2772 - val_accuracy: 0.8592\n",
            "Epoch 13/100\n",
            "14/14 [==============================] - 0s 3ms/step - loss: 0.2602 - accuracy: 0.9019 - val_loss: 0.2801 - val_accuracy: 0.8592\n",
            "Epoch 14/100\n",
            "14/14 [==============================] - 0s 5ms/step - loss: 0.2296 - accuracy: 0.9163 - val_loss: 0.2979 - val_accuracy: 0.8495\n",
            "Epoch 15/100\n",
            "14/14 [==============================] - 0s 3ms/step - loss: 0.2079 - accuracy: 0.9091 - val_loss: 0.2345 - val_accuracy: 0.9126\n",
            "Epoch 16/100\n",
            "14/14 [==============================] - 0s 4ms/step - loss: 0.2456 - accuracy: 0.9019 - val_loss: 0.2384 - val_accuracy: 0.8738\n",
            "Epoch 17/100\n",
            "14/14 [==============================] - 0s 4ms/step - loss: 0.1958 - accuracy: 0.9234 - val_loss: 0.2437 - val_accuracy: 0.8835\n",
            "Epoch 18/100\n",
            "14/14 [==============================] - 0s 5ms/step - loss: 0.2366 - accuracy: 0.9091 - val_loss: 0.2251 - val_accuracy: 0.8981\n",
            "Epoch 19/100\n",
            "14/14 [==============================] - 0s 5ms/step - loss: 0.2272 - accuracy: 0.9139 - val_loss: 0.2532 - val_accuracy: 0.8592\n",
            "Epoch 20/100\n",
            "14/14 [==============================] - 0s 5ms/step - loss: 0.1992 - accuracy: 0.9258 - val_loss: 0.2228 - val_accuracy: 0.8835\n",
            "Epoch 21/100\n",
            "14/14 [==============================] - 0s 5ms/step - loss: 0.1992 - accuracy: 0.9258 - val_loss: 0.2007 - val_accuracy: 0.9223\n",
            "Epoch 22/100\n",
            "14/14 [==============================] - 0s 4ms/step - loss: 0.1869 - accuracy: 0.9258 - val_loss: 0.1943 - val_accuracy: 0.9078\n",
            "Epoch 23/100\n",
            "14/14 [==============================] - 0s 4ms/step - loss: 0.1706 - accuracy: 0.9378 - val_loss: 0.1877 - val_accuracy: 0.9320\n",
            "Epoch 24/100\n",
            "14/14 [==============================] - 0s 3ms/step - loss: 0.1762 - accuracy: 0.9330 - val_loss: 0.1814 - val_accuracy: 0.9369\n",
            "Epoch 25/100\n",
            "14/14 [==============================] - 0s 4ms/step - loss: 0.1731 - accuracy: 0.9378 - val_loss: 0.1782 - val_accuracy: 0.9320\n",
            "Epoch 26/100\n",
            "14/14 [==============================] - 0s 4ms/step - loss: 0.1641 - accuracy: 0.9258 - val_loss: 0.2132 - val_accuracy: 0.8883\n",
            "Epoch 27/100\n",
            "14/14 [==============================] - 0s 3ms/step - loss: 0.1722 - accuracy: 0.9258 - val_loss: 0.1776 - val_accuracy: 0.9078\n",
            "Epoch 28/100\n",
            "14/14 [==============================] - 0s 4ms/step - loss: 0.1574 - accuracy: 0.9234 - val_loss: 0.1921 - val_accuracy: 0.9078\n",
            "Epoch 29/100\n",
            "14/14 [==============================] - 0s 3ms/step - loss: 0.1471 - accuracy: 0.9354 - val_loss: 0.1516 - val_accuracy: 0.9466\n",
            "Epoch 30/100\n",
            "14/14 [==============================] - 0s 3ms/step - loss: 0.1640 - accuracy: 0.9354 - val_loss: 0.1878 - val_accuracy: 0.9029\n",
            "Epoch 31/100\n",
            "14/14 [==============================] - 0s 4ms/step - loss: 0.1521 - accuracy: 0.9354 - val_loss: 0.1443 - val_accuracy: 0.9515\n",
            "Epoch 32/100\n",
            "14/14 [==============================] - 0s 3ms/step - loss: 0.1307 - accuracy: 0.9426 - val_loss: 0.1487 - val_accuracy: 0.9466\n",
            "Epoch 33/100\n",
            "14/14 [==============================] - 0s 3ms/step - loss: 0.1388 - accuracy: 0.9545 - val_loss: 0.1346 - val_accuracy: 0.9466\n",
            "Epoch 34/100\n",
            "14/14 [==============================] - 0s 4ms/step - loss: 0.1295 - accuracy: 0.9522 - val_loss: 0.1341 - val_accuracy: 0.9612\n",
            "Epoch 35/100\n",
            "14/14 [==============================] - 0s 3ms/step - loss: 0.1284 - accuracy: 0.9498 - val_loss: 0.1335 - val_accuracy: 0.9563\n",
            "Epoch 36/100\n",
            "14/14 [==============================] - 0s 5ms/step - loss: 0.1244 - accuracy: 0.9474 - val_loss: 0.1217 - val_accuracy: 0.9709\n",
            "Epoch 37/100\n",
            "14/14 [==============================] - 0s 4ms/step - loss: 0.1205 - accuracy: 0.9545 - val_loss: 0.1574 - val_accuracy: 0.9320\n",
            "Epoch 38/100\n",
            "14/14 [==============================] - 0s 4ms/step - loss: 0.1294 - accuracy: 0.9474 - val_loss: 0.1251 - val_accuracy: 0.9563\n",
            "Epoch 39/100\n",
            "14/14 [==============================] - 0s 3ms/step - loss: 0.1200 - accuracy: 0.9474 - val_loss: 0.1397 - val_accuracy: 0.9515\n",
            "Epoch 40/100\n",
            "14/14 [==============================] - 0s 4ms/step - loss: 0.1368 - accuracy: 0.9378 - val_loss: 0.1630 - val_accuracy: 0.9223\n",
            "Epoch 41/100\n",
            "14/14 [==============================] - 0s 4ms/step - loss: 0.1042 - accuracy: 0.9593 - val_loss: 0.1189 - val_accuracy: 0.9660\n",
            "Epoch 42/100\n",
            "14/14 [==============================] - 0s 5ms/step - loss: 0.1214 - accuracy: 0.9474 - val_loss: 0.1283 - val_accuracy: 0.9612\n",
            "Epoch 43/100\n",
            "14/14 [==============================] - 0s 4ms/step - loss: 0.1252 - accuracy: 0.9474 - val_loss: 0.1316 - val_accuracy: 0.9660\n",
            "Epoch 44/100\n",
            "14/14 [==============================] - 0s 4ms/step - loss: 0.1027 - accuracy: 0.9545 - val_loss: 0.1107 - val_accuracy: 0.9709\n",
            "Epoch 45/100\n",
            "14/14 [==============================] - 0s 3ms/step - loss: 0.1095 - accuracy: 0.9593 - val_loss: 0.1036 - val_accuracy: 0.9806\n",
            "Epoch 46/100\n",
            "14/14 [==============================] - 0s 4ms/step - loss: 0.0960 - accuracy: 0.9737 - val_loss: 0.1070 - val_accuracy: 0.9563\n",
            "Epoch 47/100\n",
            "14/14 [==============================] - 0s 5ms/step - loss: 0.1124 - accuracy: 0.9450 - val_loss: 0.1016 - val_accuracy: 0.9854\n",
            "Epoch 48/100\n",
            "14/14 [==============================] - 0s 5ms/step - loss: 0.1228 - accuracy: 0.9522 - val_loss: 0.1119 - val_accuracy: 0.9660\n",
            "Epoch 49/100\n",
            "14/14 [==============================] - 0s 4ms/step - loss: 0.1109 - accuracy: 0.9569 - val_loss: 0.0992 - val_accuracy: 0.9854\n",
            "Epoch 50/100\n",
            "14/14 [==============================] - 0s 5ms/step - loss: 0.0985 - accuracy: 0.9737 - val_loss: 0.0940 - val_accuracy: 0.9709\n",
            "Epoch 51/100\n",
            "14/14 [==============================] - 0s 3ms/step - loss: 0.1033 - accuracy: 0.9641 - val_loss: 0.1242 - val_accuracy: 0.9515\n",
            "Epoch 52/100\n",
            "14/14 [==============================] - 0s 3ms/step - loss: 0.0976 - accuracy: 0.9569 - val_loss: 0.0981 - val_accuracy: 0.9854\n",
            "Epoch 53/100\n",
            "14/14 [==============================] - 0s 4ms/step - loss: 0.1138 - accuracy: 0.9593 - val_loss: 0.0903 - val_accuracy: 0.9854\n",
            "Epoch 54/100\n",
            "14/14 [==============================] - 0s 3ms/step - loss: 0.1096 - accuracy: 0.9474 - val_loss: 0.1037 - val_accuracy: 0.9612\n",
            "Epoch 55/100\n",
            "14/14 [==============================] - 0s 4ms/step - loss: 0.0995 - accuracy: 0.9569 - val_loss: 0.1393 - val_accuracy: 0.9369\n",
            "Epoch 56/100\n",
            "14/14 [==============================] - 0s 4ms/step - loss: 0.0975 - accuracy: 0.9545 - val_loss: 0.0909 - val_accuracy: 0.9757\n",
            "Epoch 57/100\n",
            "14/14 [==============================] - 0s 4ms/step - loss: 0.0852 - accuracy: 0.9665 - val_loss: 0.0948 - val_accuracy: 0.9757\n",
            "Epoch 58/100\n",
            "14/14 [==============================] - 0s 4ms/step - loss: 0.0800 - accuracy: 0.9689 - val_loss: 0.0939 - val_accuracy: 0.9757\n",
            "Epoch 59/100\n",
            "14/14 [==============================] - 0s 5ms/step - loss: 0.1091 - accuracy: 0.9545 - val_loss: 0.1889 - val_accuracy: 0.9175\n",
            "Epoch 60/100\n",
            "14/14 [==============================] - 0s 5ms/step - loss: 0.1361 - accuracy: 0.9569 - val_loss: 0.0973 - val_accuracy: 0.9709\n",
            "Epoch 61/100\n",
            "14/14 [==============================] - 0s 5ms/step - loss: 0.0988 - accuracy: 0.9665 - val_loss: 0.0928 - val_accuracy: 0.9757\n",
            "Epoch 62/100\n",
            "14/14 [==============================] - 0s 3ms/step - loss: 0.0935 - accuracy: 0.9689 - val_loss: 0.1200 - val_accuracy: 0.9369\n",
            "Epoch 63/100\n",
            "14/14 [==============================] - 0s 3ms/step - loss: 0.0899 - accuracy: 0.9713 - val_loss: 0.0844 - val_accuracy: 0.9757\n",
            "Epoch 64/100\n",
            "14/14 [==============================] - 0s 5ms/step - loss: 0.0921 - accuracy: 0.9593 - val_loss: 0.0860 - val_accuracy: 0.9757\n",
            "Epoch 65/100\n",
            "14/14 [==============================] - 0s 3ms/step - loss: 0.0782 - accuracy: 0.9737 - val_loss: 0.0859 - val_accuracy: 0.9806\n",
            "Epoch 66/100\n",
            "14/14 [==============================] - 0s 3ms/step - loss: 0.0839 - accuracy: 0.9545 - val_loss: 0.0769 - val_accuracy: 0.9854\n",
            "Epoch 67/100\n",
            "14/14 [==============================] - 0s 4ms/step - loss: 0.1104 - accuracy: 0.9593 - val_loss: 0.0941 - val_accuracy: 0.9563\n",
            "Epoch 68/100\n",
            "14/14 [==============================] - 0s 4ms/step - loss: 0.0940 - accuracy: 0.9569 - val_loss: 0.1036 - val_accuracy: 0.9466\n",
            "Epoch 69/100\n",
            "14/14 [==============================] - 0s 4ms/step - loss: 0.0711 - accuracy: 0.9713 - val_loss: 0.0951 - val_accuracy: 0.9757\n",
            "Epoch 70/100\n",
            "14/14 [==============================] - 0s 5ms/step - loss: 0.0581 - accuracy: 0.9833 - val_loss: 0.0790 - val_accuracy: 0.9854\n",
            "Epoch 71/100\n",
            "14/14 [==============================] - 0s 4ms/step - loss: 0.0505 - accuracy: 0.9904 - val_loss: 0.0736 - val_accuracy: 0.9854\n",
            "Epoch 72/100\n",
            "14/14 [==============================] - 0s 4ms/step - loss: 0.0788 - accuracy: 0.9761 - val_loss: 0.0814 - val_accuracy: 0.9854\n",
            "Epoch 73/100\n",
            "14/14 [==============================] - 0s 4ms/step - loss: 0.0801 - accuracy: 0.9737 - val_loss: 0.0733 - val_accuracy: 0.9903\n",
            "Epoch 74/100\n",
            "14/14 [==============================] - 0s 5ms/step - loss: 0.0892 - accuracy: 0.9665 - val_loss: 0.0733 - val_accuracy: 0.9854\n",
            "Epoch 75/100\n",
            "14/14 [==============================] - 0s 5ms/step - loss: 0.0658 - accuracy: 0.9737 - val_loss: 0.0820 - val_accuracy: 0.9854\n",
            "Epoch 76/100\n",
            "14/14 [==============================] - 0s 4ms/step - loss: 0.0678 - accuracy: 0.9737 - val_loss: 0.0676 - val_accuracy: 0.9854\n",
            "Epoch 77/100\n",
            "14/14 [==============================] - 0s 4ms/step - loss: 0.0743 - accuracy: 0.9689 - val_loss: 0.0778 - val_accuracy: 0.9854\n",
            "Epoch 78/100\n",
            "14/14 [==============================] - 0s 4ms/step - loss: 0.0629 - accuracy: 0.9785 - val_loss: 0.0749 - val_accuracy: 0.9806\n",
            "Epoch 79/100\n",
            "14/14 [==============================] - 0s 4ms/step - loss: 0.0696 - accuracy: 0.9737 - val_loss: 0.0644 - val_accuracy: 0.9854\n",
            "Epoch 80/100\n",
            "14/14 [==============================] - 0s 4ms/step - loss: 0.0458 - accuracy: 0.9928 - val_loss: 0.0805 - val_accuracy: 0.9757\n",
            "Epoch 81/100\n",
            "14/14 [==============================] - 0s 4ms/step - loss: 0.1140 - accuracy: 0.9474 - val_loss: 0.1987 - val_accuracy: 0.8883\n",
            "Epoch 82/100\n",
            "14/14 [==============================] - 0s 4ms/step - loss: 0.1458 - accuracy: 0.9426 - val_loss: 0.3003 - val_accuracy: 0.9029\n",
            "Epoch 83/100\n",
            "14/14 [==============================] - 0s 4ms/step - loss: 0.0973 - accuracy: 0.9569 - val_loss: 0.1219 - val_accuracy: 0.9612\n",
            "Epoch 84/100\n",
            "14/14 [==============================] - 0s 3ms/step - loss: 0.1112 - accuracy: 0.9593 - val_loss: 0.0677 - val_accuracy: 0.9806\n",
            "Epoch 85/100\n",
            "14/14 [==============================] - 0s 3ms/step - loss: 0.0621 - accuracy: 0.9761 - val_loss: 0.0684 - val_accuracy: 0.9757\n",
            "Epoch 86/100\n",
            "14/14 [==============================] - 0s 5ms/step - loss: 0.0518 - accuracy: 0.9809 - val_loss: 0.0706 - val_accuracy: 0.9806\n",
            "Epoch 87/100\n",
            "14/14 [==============================] - 0s 4ms/step - loss: 0.0539 - accuracy: 0.9761 - val_loss: 0.0702 - val_accuracy: 0.9854\n",
            "Epoch 88/100\n",
            "14/14 [==============================] - 0s 5ms/step - loss: 0.0467 - accuracy: 0.9880 - val_loss: 0.0666 - val_accuracy: 0.9854\n",
            "Epoch 89/100\n",
            "14/14 [==============================] - 0s 4ms/step - loss: 0.0436 - accuracy: 0.9856 - val_loss: 0.0591 - val_accuracy: 0.9854\n",
            "Epoch 90/100\n",
            "14/14 [==============================] - 0s 4ms/step - loss: 0.0622 - accuracy: 0.9737 - val_loss: 0.0628 - val_accuracy: 0.9854\n",
            "Epoch 91/100\n",
            "14/14 [==============================] - 0s 5ms/step - loss: 0.0509 - accuracy: 0.9761 - val_loss: 0.0609 - val_accuracy: 0.9854\n",
            "Epoch 92/100\n",
            "14/14 [==============================] - 0s 4ms/step - loss: 0.0504 - accuracy: 0.9880 - val_loss: 0.0559 - val_accuracy: 0.9854\n",
            "Epoch 93/100\n",
            "14/14 [==============================] - 0s 3ms/step - loss: 0.0398 - accuracy: 0.9856 - val_loss: 0.0536 - val_accuracy: 0.9903\n",
            "Epoch 94/100\n",
            "14/14 [==============================] - 0s 4ms/step - loss: 0.0345 - accuracy: 0.9880 - val_loss: 0.0610 - val_accuracy: 0.9806\n",
            "Epoch 95/100\n",
            "14/14 [==============================] - 0s 5ms/step - loss: 0.0633 - accuracy: 0.9689 - val_loss: 0.0740 - val_accuracy: 0.9854\n",
            "Epoch 96/100\n",
            "14/14 [==============================] - 0s 4ms/step - loss: 0.0848 - accuracy: 0.9641 - val_loss: 0.1256 - val_accuracy: 0.9466\n",
            "Epoch 97/100\n",
            "14/14 [==============================] - 0s 5ms/step - loss: 0.0667 - accuracy: 0.9785 - val_loss: 0.0731 - val_accuracy: 0.9757\n",
            "Epoch 98/100\n",
            "14/14 [==============================] - 0s 4ms/step - loss: 0.0649 - accuracy: 0.9761 - val_loss: 0.0764 - val_accuracy: 0.9806\n",
            "Epoch 99/100\n",
            "14/14 [==============================] - 0s 5ms/step - loss: 0.0432 - accuracy: 0.9880 - val_loss: 0.0744 - val_accuracy: 0.9806\n",
            "Epoch 100/100\n",
            "14/14 [==============================] - 0s 4ms/step - loss: 0.0379 - accuracy: 0.9928 - val_loss: 0.0614 - val_accuracy: 0.9854\n"
          ],
          "name": "stdout"
        }
      ]
    },
    {
      "cell_type": "code",
      "metadata": {
        "colab": {
          "base_uri": "https://localhost:8080/",
          "height": 264
        },
        "id": "fG_Cf_bFXFmb",
        "outputId": "1852f79d-6b20-4fe8-9620-9a02adbb9d46"
      },
      "source": [
        "plt.plot(r.history['loss'], label='loss')\n",
        "plt.plot(r.history['val_loss'], label='val_loss')\n",
        "plt.legend();"
      ],
      "execution_count": 9,
      "outputs": [
        {
          "output_type": "display_data",
          "data": {
            "image/png": "[encoded data removed]",
            "text/plain": [
              "<Figure size 432x288 with 1 Axes>"
            ]
          },
          "metadata": {
            "tags": [],
            "needs_background": "light"
          }
        }
      ]
    },
    {
      "cell_type": "code",
      "metadata": {
        "colab": {
          "base_uri": "https://localhost:8080/"
        },
        "id": "Vxebh7Bznf1K",
        "outputId": "1e574eb7-ca70-4372-e776-852ea2a2a2ee"
      },
      "source": [
        "_, accuracy = model.evaluate(x=X_test, y=y_test_enc)\n",
        "print('Accuracy: %.2f' % (accuracy*100) + '%')"
      ],
      "execution_count": 16,
      "outputs": [
        {
          "output_type": "stream",
          "text": [
            "7/7 [==============================] - 0s 2ms/step - loss: 0.0614 - accuracy: 0.9854\n",
            "Accuracy: 98.54%\n"
          ],
          "name": "stdout"
        }
      ]
    },
    {
      "cell_type": "code",
      "metadata": {
        "id": "qjW3FQXLoTxe"
      },
      "source": [
        ""
      ],
      "execution_count": 10,
      "outputs": []
    }
  ]
}