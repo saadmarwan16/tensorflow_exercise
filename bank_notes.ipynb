{
  "nbformat": 4,
  "nbformat_minor": 0,
  "metadata": {
    "colab": {
      "name": "bank_notes.ipynb",
      "provenance": [],
      "authorship_tag": "ABX9TyNIFuMDk8fYXpbZ/OO0BSyJ",
      "include_colab_link": true
    },
    "kernelspec": {
      "name": "python3",
      "display_name": "Python 3"
    },
    "language_info": {
      "name": "python"
    }
  },
  "cells": [
    {
      "cell_type": "markdown",
      "metadata": {
        "id": "view-in-github",
        "colab_type": "text"
      },
      "source": [
        "<a href=\"https://colab.research.google.com/github/saadmarwan16/tensorflow_exercise/blob/main/bank_notes.ipynb\" target=\"_parent\"><img src=\"https://colab.research.google.com/assets/colab-badge.svg\" alt=\"Open In Colab\"/></a>"
      ]
    },
    {
      "cell_type": "code",
      "metadata": {
        "id": "4UNU88kSW0ne"
      },
      "source": [
        "import tensorflow as tf\n",
        "from sklearn.model_selection import train_test_split\n",
        "from pandas import read_csv\n",
        "import matplotlib.pyplot as plt"
      ],
      "execution_count": 1,
      "outputs": []
    },
    {
      "cell_type": "code",
      "metadata": {
        "id": "F32G8I2ZW-wK"
      },
      "source": [
        "# from google.colab import files\n",
        "# files.upload()"
      ],
      "execution_count": 2,
      "outputs": []
    },
    {
      "cell_type": "code",
      "metadata": {
        "colab": {
          "base_uri": "https://localhost:8080/",
          "height": 197
        },
        "id": "_Xzs64-hXCsj",
        "outputId": "51e72407-edae-4c8d-ca59-0e42c2fd12a5"
      },
      "source": [
        "df = read_csv('data_banknote_authentication.txt', header=None)\n",
        "df.head()"
      ],
      "execution_count": 3,
      "outputs": [
        {
          "output_type": "execute_result",
          "data": {
            "text/html": [
              "<div>\n",
              "<style scoped>\n",
              "    .dataframe tbody tr th:only-of-type {\n",
              "        vertical-align: middle;\n",
              "    }\n",
              "\n",
              "    .dataframe tbody tr th {\n",
              "        vertical-align: top;\n",
              "    }\n",
              "\n",
              "    .dataframe thead th {\n",
              "        text-align: right;\n",
              "    }\n",
              "</style>\n",
              "<table border=\"1\" class=\"dataframe\">\n",
              "  <thead>\n",
              "    <tr style=\"text-align: right;\">\n",
              "      <th></th>\n",
              "      <th>0</th>\n",
              "      <th>1</th>\n",
              "      <th>2</th>\n",
              "      <th>3</th>\n",
              "      <th>4</th>\n",
              "    </tr>\n",
              "  </thead>\n",
              "  <tbody>\n",
              "    <tr>\n",
              "      <th>0</th>\n",
              "      <td>3.62160</td>\n",
              "      <td>8.6661</td>\n",
              "      <td>-2.8073</td>\n",
              "      <td>-0.44699</td>\n",
              "      <td>0</td>\n",
              "    </tr>\n",
              "    <tr>\n",
              "      <th>1</th>\n",
              "      <td>4.54590</td>\n",
              "      <td>8.1674</td>\n",
              "      <td>-2.4586</td>\n",
              "      <td>-1.46210</td>\n",
              "      <td>0</td>\n",
              "    </tr>\n",
              "    <tr>\n",
              "      <th>2</th>\n",
              "      <td>3.86600</td>\n",
              "      <td>-2.6383</td>\n",
              "      <td>1.9242</td>\n",
              "      <td>0.10645</td>\n",
              "      <td>0</td>\n",
              "    </tr>\n",
              "    <tr>\n",
              "      <th>3</th>\n",
              "      <td>3.45660</td>\n",
              "      <td>9.5228</td>\n",
              "      <td>-4.0112</td>\n",
              "      <td>-3.59440</td>\n",
              "      <td>0</td>\n",
              "    </tr>\n",
              "    <tr>\n",
              "      <th>4</th>\n",
              "      <td>0.32924</td>\n",
              "      <td>-4.4552</td>\n",
              "      <td>4.5718</td>\n",
              "      <td>-0.98880</td>\n",
              "      <td>0</td>\n",
              "    </tr>\n",
              "  </tbody>\n",
              "</table>\n",
              "</div>"
            ],
            "text/plain": [
              "         0       1       2        3  4\n",
              "0  3.62160  8.6661 -2.8073 -0.44699  0\n",
              "1  4.54590  8.1674 -2.4586 -1.46210  0\n",
              "2  3.86600 -2.6383  1.9242  0.10645  0\n",
              "3  3.45660  9.5228 -4.0112 -3.59440  0\n",
              "4  0.32924 -4.4552  4.5718 -0.98880  0"
            ]
          },
          "metadata": {
            "tags": []
          },
          "execution_count": 3
        }
      ]
    },
    {
      "cell_type": "code",
      "metadata": {
        "id": "RKPRgyDnXO_1"
      },
      "source": [
        "def split_data(X, Y):\n",
        "    return train_test_split(X, Y, test_size=0.33, random_state=1)"
      ],
      "execution_count": 4,
      "outputs": []
    },
    {
      "cell_type": "code",
      "metadata": {
        "colab": {
          "base_uri": "https://localhost:8080/"
        },
        "id": "pW9KbNM0XYPp",
        "outputId": "fb45639f-9197-40ab-e806-36ce1e985625"
      },
      "source": [
        "dataset = df.values\n",
        "dataset"
      ],
      "execution_count": 5,
      "outputs": [
        {
          "output_type": "execute_result",
          "data": {
            "text/plain": [
              "array([[  3.6216 ,   8.6661 ,  -2.8073 ,  -0.44699,   0.     ],\n",
              "       [  4.5459 ,   8.1674 ,  -2.4586 ,  -1.4621 ,   0.     ],\n",
              "       [  3.866  ,  -2.6383 ,   1.9242 ,   0.10645,   0.     ],\n",
              "       ...,\n",
              "       [ -3.7503 , -13.4586 ,  17.5932 ,  -2.7771 ,   1.     ],\n",
              "       [ -3.5637 ,  -8.3827 ,  12.393  ,  -1.2823 ,   1.     ],\n",
              "       [ -2.5419 ,  -0.65804,   2.6842 ,   1.1952 ,   1.     ]])"
            ]
          },
          "metadata": {
            "tags": []
          },
          "execution_count": 5
        }
      ]
    },
    {
      "cell_type": "code",
      "metadata": {
        "id": "Cp3TgWFaXzP3"
      },
      "source": [
        "X = dataset[:, :-1]\n",
        "Y = dataset[:, -1]"
      ],
      "execution_count": 6,
      "outputs": []
    },
    {
      "cell_type": "code",
      "metadata": {
        "id": "_YkrPcbiYCCr"
      },
      "source": [
        "X_train, X_test, y_train, y_test = split_data(X, Y)"
      ],
      "execution_count": 7,
      "outputs": []
    },
    {
      "cell_type": "code",
      "metadata": {
        "id": "OgebrGpqLYpm"
      },
      "source": [
        "N, D = X_train.shape"
      ],
      "execution_count": 8,
      "outputs": []
    },
    {
      "cell_type": "code",
      "metadata": {
        "colab": {
          "base_uri": "https://localhost:8080/"
        },
        "id": "BkH_Ahm4KuPD",
        "outputId": "bea44f28-096e-4be1-c3a6-23d7bfaedb7f"
      },
      "source": [
        "model = tf.keras.models.Sequential([\n",
        "    tf.keras.layers.Dense(16, input_shape=(D, ), activation='relu'),\n",
        "    tf.keras.layers.Dropout(0.1),\n",
        "    tf.keras.layers.Dense(64, activation='relu'),\n",
        "    tf.keras.layers.Dropout(0.2),\n",
        "    tf.keras.layers.Dense(2, activation='softmax'),\n",
        "])\n",
        "\n",
        "model.compile(\n",
        "    optimizer='adam',\n",
        "    loss='sparse_categorical_crossentropy',\n",
        "    metrics=['accuracy'],\n",
        ")\n",
        "\n",
        "r = model.fit(X_train, y_train, validation_data=(X_test, y_test), epochs=20)"
      ],
      "execution_count": 9,
      "outputs": [
        {
          "output_type": "stream",
          "text": [
            "Epoch 1/20\n",
            "29/29 [==============================] - 1s 8ms/step - loss: 0.6919 - accuracy: 0.6757 - val_loss: 0.3844 - val_accuracy: 0.8190\n",
            "Epoch 2/20\n",
            "29/29 [==============================] - 0s 2ms/step - loss: 0.3709 - accuracy: 0.8575 - val_loss: 0.2360 - val_accuracy: 0.9404\n",
            "Epoch 3/20\n",
            "29/29 [==============================] - 0s 2ms/step - loss: 0.2303 - accuracy: 0.9445 - val_loss: 0.1294 - val_accuracy: 0.9757\n",
            "Epoch 4/20\n",
            "29/29 [==============================] - 0s 2ms/step - loss: 0.1385 - accuracy: 0.9597 - val_loss: 0.0730 - val_accuracy: 0.9912\n",
            "Epoch 5/20\n",
            "29/29 [==============================] - 0s 2ms/step - loss: 0.0874 - accuracy: 0.9761 - val_loss: 0.0484 - val_accuracy: 0.9934\n",
            "Epoch 6/20\n",
            "29/29 [==============================] - 0s 3ms/step - loss: 0.0700 - accuracy: 0.9750 - val_loss: 0.0356 - val_accuracy: 0.9956\n",
            "Epoch 7/20\n",
            "29/29 [==============================] - 0s 3ms/step - loss: 0.0526 - accuracy: 0.9859 - val_loss: 0.0280 - val_accuracy: 0.9956\n",
            "Epoch 8/20\n",
            "29/29 [==============================] - 0s 3ms/step - loss: 0.0486 - accuracy: 0.9804 - val_loss: 0.0235 - val_accuracy: 0.9978\n",
            "Epoch 9/20\n",
            "29/29 [==============================] - 0s 3ms/step - loss: 0.0366 - accuracy: 0.9913 - val_loss: 0.0204 - val_accuracy: 0.9978\n",
            "Epoch 10/20\n",
            "29/29 [==============================] - 0s 2ms/step - loss: 0.0421 - accuracy: 0.9859 - val_loss: 0.0173 - val_accuracy: 0.9978\n",
            "Epoch 11/20\n",
            "29/29 [==============================] - 0s 3ms/step - loss: 0.0364 - accuracy: 0.9859 - val_loss: 0.0154 - val_accuracy: 0.9978\n",
            "Epoch 12/20\n",
            "29/29 [==============================] - 0s 3ms/step - loss: 0.0308 - accuracy: 0.9913 - val_loss: 0.0128 - val_accuracy: 0.9978\n",
            "Epoch 13/20\n",
            "29/29 [==============================] - 0s 2ms/step - loss: 0.0294 - accuracy: 0.9880 - val_loss: 0.0117 - val_accuracy: 0.9978\n",
            "Epoch 14/20\n",
            "29/29 [==============================] - 0s 2ms/step - loss: 0.0264 - accuracy: 0.9924 - val_loss: 0.0106 - val_accuracy: 0.9978\n",
            "Epoch 15/20\n",
            "29/29 [==============================] - 0s 3ms/step - loss: 0.0207 - accuracy: 0.9946 - val_loss: 0.0094 - val_accuracy: 0.9978\n",
            "Epoch 16/20\n",
            "29/29 [==============================] - 0s 3ms/step - loss: 0.0180 - accuracy: 0.9956 - val_loss: 0.0087 - val_accuracy: 0.9978\n",
            "Epoch 17/20\n",
            "29/29 [==============================] - 0s 2ms/step - loss: 0.0136 - accuracy: 0.9967 - val_loss: 0.0075 - val_accuracy: 0.9978\n",
            "Epoch 18/20\n",
            "29/29 [==============================] - 0s 3ms/step - loss: 0.0210 - accuracy: 0.9935 - val_loss: 0.0074 - val_accuracy: 0.9978\n",
            "Epoch 19/20\n",
            "29/29 [==============================] - 0s 3ms/step - loss: 0.0159 - accuracy: 0.9956 - val_loss: 0.0071 - val_accuracy: 0.9978\n",
            "Epoch 20/20\n",
            "29/29 [==============================] - 0s 3ms/step - loss: 0.0143 - accuracy: 0.9956 - val_loss: 0.0061 - val_accuracy: 1.0000\n"
          ],
          "name": "stdout"
        }
      ]
    },
    {
      "cell_type": "code",
      "metadata": {
        "colab": {
          "base_uri": "https://localhost:8080/",
          "height": 264
        },
        "id": "ti5aowbTNYvC",
        "outputId": "75f57b4a-2f17-4925-abe3-14bb112c3008"
      },
      "source": [
        "plt.plot(r.history['loss'], label='loss')\n",
        "plt.plot(r.history['val_loss'], label='val_loss')\n",
        "plt.legend();"
      ],
      "execution_count": 10,
      "outputs": [
        {
          "output_type": "display_data",
          "data": {
            "image/png": "[encoded data removed]",
            "text/plain": [
              "<Figure size 432x288 with 1 Axes>"
            ]
          },
          "metadata": {
            "tags": [],
            "needs_background": "light"
          }
        }
      ]
    },
    {
      "cell_type": "code",
      "metadata": {
        "id": "lnHPk07eN7AR"
      },
      "source": [
        "model.save('bank_notes_classifier.h5')"
      ],
      "execution_count": 11,
      "outputs": []
    }
  ]
}