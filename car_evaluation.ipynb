{
  "nbformat": 4,
  "nbformat_minor": 0,
  "metadata": {
    "colab": {
      "name": "car_evaluation.ipynb",
      "provenance": [],
      "authorship_tag": "ABX9TyOC4Fd8lSXTycXRFklo1Aua",
      "include_colab_link": true
    },
    "kernelspec": {
      "display_name": "Python 3",
      "name": "python3"
    },
    "language_info": {
      "name": "python"
    }
  },
  "cells": [
    {
      "cell_type": "markdown",
      "metadata": {
        "id": "view-in-github",
        "colab_type": "text"
      },
      "source": [
        "<a href=\"https://colab.research.google.com/github/saadmarwan16/tensorflow_exercise/blob/main/car_evaluation.ipynb\" target=\"_parent\"><img src=\"https://colab.research.google.com/assets/colab-badge.svg\" alt=\"Open In Colab\"/></a>"
      ]
    },
    {
      "cell_type": "code",
      "metadata": {
        "id": "nb9eSciodT9p"
      },
      "source": [
        "import tensorflow as tf\n",
        "from sklearn.model_selection import train_test_split\n",
        "from sklearn.preprocessing import OneHotEncoder, LabelEncoder\n",
        "from pandas import read_csv\n",
        "import matplotlib.pyplot as plt"
      ],
      "execution_count": 1,
      "outputs": []
    },
    {
      "cell_type": "code",
      "metadata": {
        "id": "mqy4zigksHaz"
      },
      "source": [
        "class CarEvaluationClassifier(tf.keras.Model):\n",
        "    def __init__(self):\n",
        "        super(CarEvaluationClassifier, self).__init__()\n",
        "        self.dense1 = tf.keras.layers.Dense(16, activation='relu')\n",
        "        self.dropout1 = tf.keras.layers.Dropout(0.1)\n",
        "        self.dense2 = tf.keras.layers.Dense(32, activation='relu')\n",
        "        self.dense3 = tf.keras.layers.Dense(64, activation='relu')\n",
        "        self.dropout2 = tf.keras.layers.Dropout(0.25)\n",
        "        self.dense4 = tf.keras.layers.Dense(4, activation='softmax')\n",
        "\n",
        "    def load_dataset(self, filepath):\n",
        "        df = read_csv('car.data', header=None)\n",
        "        dataset = df.values\n",
        "\n",
        "        X = dataset[:, :-1]\n",
        "        Y = dataset[:, -1]\n",
        "\n",
        "        X = X.astype(str)\n",
        "        Y = Y.reshape(len(Y), 1)\n",
        "\n",
        "        return df, X, Y\n",
        "\n",
        "    def split_data(self, X, Y):\n",
        "        return train_test_split(X, Y, test_size=0.33, random_state=1)\n",
        "\n",
        "    def prepare_inputs(self, X_train, X_test):\n",
        "        ohe = OneHotEncoder()\n",
        "\n",
        "        ohe.fit(X_train)\n",
        "        X_train_enc = ohe.transform(X_train)\n",
        "        X_test_enc = ohe.transform(X_test)\n",
        "\n",
        "        return X_train_enc, X_test_enc\n",
        "\n",
        "    def prepare_targets(self, y_train, y_test):\n",
        "        le = LabelEncoder()\n",
        "\n",
        "        le.fit(y_train)\n",
        "        y_train_enc = le.transform(y_train)\n",
        "        y_test_enc = le.transform(y_test)\n",
        "\n",
        "        return y_train_enc, y_test_enc\n",
        "\n",
        "    def instantiate_model(self, input_shape):\n",
        "        model = tf.keras.models.Sequential([\n",
        "            tf.keras.layers.Input(shape=(input_shape,),),\n",
        "            self.dense1,\n",
        "            self.dropout1,\n",
        "            self.dense2,\n",
        "            self.dense3,\n",
        "            self.dropout2,\n",
        "            self.dense4,\n",
        "        ])\n",
        "\n",
        "        return model\n",
        "\n",
        "    def compile_model(self, model):\n",
        "        model.compile(\n",
        "            optimizer='adam',\n",
        "            loss='sparse_categorical_crossentropy',\n",
        "            metrics=['accuracy'],\n",
        "        )\n",
        "\n",
        "        return model\n",
        "\n",
        "    def fit_model(self, X_train_enc, X_test_enc, y_train_enc, y_test_enc, model):\n",
        "        fitted_model = model.fit(\n",
        "            X_train_enc,\n",
        "            y_train_enc,\n",
        "            validation_data=(X_test_enc, y_test_enc), \n",
        "            epochs=100,\n",
        "        )\n",
        "\n",
        "        return fitted_model\n",
        "\n",
        "    def plot_loss(self, model):\n",
        "        plt.plot(model.history['loss'], label='loss')\n",
        "        plt.plot(model.history['val_loss'], label='val_loss')\n",
        "        plt.legend();\n",
        "\n",
        "    def plot_accuracy(self, model):\n",
        "        plt.plot(model.history['accuracy'], label='acc')\n",
        "        plt.plot(model.history['val_accuracy'], label='val_acc')\n",
        "        plt.legend();"
      ],
      "execution_count": 3,
      "outputs": []
    },
    {
      "cell_type": "code",
      "metadata": {
        "id": "tCl3vMCu0mr7"
      },
      "source": [
        "car_evaluation_classifier = CarEvaluationClassifier()"
      ],
      "execution_count": 4,
      "outputs": []
    },
    {
      "cell_type": "code",
      "metadata": {
        "id": "_Ea0Zajp0t9I"
      },
      "source": [
        "df, X, Y = car_evaluation_classifier.load_dataset('car.data')"
      ],
      "execution_count": 5,
      "outputs": []
    },
    {
      "cell_type": "code",
      "metadata": {
        "id": "V1gMhlQ02B5c"
      },
      "source": [
        "X_train, X_test, y_train, y_test = car_evaluation_classifier.split_data(X, Y)"
      ],
      "execution_count": 6,
      "outputs": []
    },
    {
      "cell_type": "code",
      "metadata": {
        "colab": {
          "base_uri": "https://localhost:8080/"
        },
        "id": "sSd89tUX2C3N",
        "outputId": "ef23402a-aaaa-4ef4-ef75-b283243b0c50"
      },
      "source": [
        "X_train_enc, X_test_enc = car_evaluation_classifier.prepare_inputs(X_train, X_test)\n",
        "y_train_enc, y_test_enc = car_evaluation_classifier.prepare_targets(y_train, y_test)"
      ],
      "execution_count": 7,
      "outputs": [
        {
          "output_type": "stream",
          "text": [
            "/usr/local/lib/python3.7/dist-packages/sklearn/preprocessing/_label.py:235: DataConversionWarning: A column-vector y was passed when a 1d array was expected. Please change the shape of y to (n_samples, ), for example using ravel().\n",
            "  y = column_or_1d(y, warn=True)\n",
            "/usr/local/lib/python3.7/dist-packages/sklearn/preprocessing/_label.py:268: DataConversionWarning: A column-vector y was passed when a 1d array was expected. Please change the shape of y to (n_samples, ), for example using ravel().\n",
            "  y = column_or_1d(y, warn=True)\n"
          ],
          "name": "stderr"
        }
      ]
    },
    {
      "cell_type": "code",
      "metadata": {
        "id": "4jfcrVgr2nUw",
        "colab": {
          "base_uri": "https://localhost:8080/"
        },
        "outputId": "22409ca9-488f-4fe2-9f3f-c1f05ea8f95c"
      },
      "source": [
        "model = car_evaluation_classifier.instantiate_model(X_train_enc.shape[1])"
      ],
      "execution_count": 8,
      "outputs": [
        {
          "output_type": "stream",
          "text": [
            "WARNING:tensorflow:Please add `keras.layers.InputLayer` instead of `keras.Input` to Sequential model. `keras.Input` is intended to be used by Functional model.\n"
          ],
          "name": "stdout"
        }
      ]
    },
    {
      "cell_type": "code",
      "metadata": {
        "id": "bLaJ9bui26FW"
      },
      "source": [
        "model = car_evaluation_classifier.compile_model(model)"
      ],
      "execution_count": 9,
      "outputs": []
    },
    {
      "cell_type": "code",
      "metadata": {
        "colab": {
          "base_uri": "https://localhost:8080/"
        },
        "id": "-WI4ozfh2_9m",
        "outputId": "78a50b58-5049-46de-a909-a90c2690be6a"
      },
      "source": [
        "model = car_evaluation_classifier.fit_model(X_train_enc, X_test_enc, y_train_enc, y_test_enc, model)"
      ],
      "execution_count": 10,
      "outputs": [
        {
          "output_type": "stream",
          "text": [
            "Epoch 1/100\n"
          ],
          "name": "stdout"
        },
        {
          "output_type": "stream",
          "text": [
            "/usr/local/lib/python3.7/dist-packages/tensorflow/python/framework/indexed_slices.py:449: UserWarning: Converting sparse IndexedSlices(IndexedSlices(indices=Tensor(\"gradient_tape/sequential/dense/embedding_lookup_sparse/Reshape_1:0\", shape=(None,), dtype=int32), values=Tensor(\"gradient_tape/sequential/dense/embedding_lookup_sparse/Reshape:0\", shape=(None, 16), dtype=float32), dense_shape=Tensor(\"gradient_tape/sequential/dense/embedding_lookup_sparse/Cast:0\", shape=(2,), dtype=int32))) to a dense Tensor of unknown shape. This may consume a large amount of memory.\n",
            "  \"shape. This may consume a large amount of memory.\" % value)\n"
          ],
          "name": "stderr"
        },
        {
          "output_type": "stream",
          "text": [
            "37/37 [==============================] - 1s 7ms/step - loss: 1.0504 - accuracy: 0.6664 - val_loss: 0.8421 - val_accuracy: 0.7058\n",
            "Epoch 2/100\n",
            "37/37 [==============================] - 0s 3ms/step - loss: 0.8259 - accuracy: 0.6984 - val_loss: 0.7530 - val_accuracy: 0.7058\n",
            "Epoch 3/100\n",
            "37/37 [==============================] - 0s 3ms/step - loss: 0.7379 - accuracy: 0.6992 - val_loss: 0.6528 - val_accuracy: 0.7058\n",
            "Epoch 4/100\n",
            "37/37 [==============================] - 0s 3ms/step - loss: 0.6344 - accuracy: 0.7217 - val_loss: 0.5189 - val_accuracy: 0.7566\n",
            "Epoch 5/100\n",
            "37/37 [==============================] - 0s 3ms/step - loss: 0.5158 - accuracy: 0.7779 - val_loss: 0.3975 - val_accuracy: 0.8214\n",
            "Epoch 6/100\n",
            "37/37 [==============================] - 0s 3ms/step - loss: 0.4217 - accuracy: 0.8332 - val_loss: 0.3281 - val_accuracy: 0.8634\n",
            "Epoch 7/100\n",
            "37/37 [==============================] - 0s 3ms/step - loss: 0.3769 - accuracy: 0.8392 - val_loss: 0.2999 - val_accuracy: 0.8704\n",
            "Epoch 8/100\n",
            "37/37 [==============================] - 0s 3ms/step - loss: 0.3448 - accuracy: 0.8634 - val_loss: 0.2691 - val_accuracy: 0.8862\n",
            "Epoch 9/100\n",
            "37/37 [==============================] - 0s 3ms/step - loss: 0.3061 - accuracy: 0.8747 - val_loss: 0.2469 - val_accuracy: 0.8932\n",
            "Epoch 10/100\n",
            "37/37 [==============================] - 0s 4ms/step - loss: 0.2626 - accuracy: 0.8963 - val_loss: 0.2287 - val_accuracy: 0.9072\n",
            "Epoch 11/100\n",
            "37/37 [==============================] - 0s 3ms/step - loss: 0.2634 - accuracy: 0.8902 - val_loss: 0.2274 - val_accuracy: 0.8984\n",
            "Epoch 12/100\n",
            "37/37 [==============================] - 0s 3ms/step - loss: 0.2553 - accuracy: 0.8963 - val_loss: 0.2200 - val_accuracy: 0.9037\n",
            "Epoch 13/100\n",
            "37/37 [==============================] - 0s 3ms/step - loss: 0.2561 - accuracy: 0.8885 - val_loss: 0.1988 - val_accuracy: 0.9142\n",
            "Epoch 14/100\n",
            "37/37 [==============================] - 0s 3ms/step - loss: 0.2073 - accuracy: 0.9101 - val_loss: 0.1899 - val_accuracy: 0.9159\n",
            "Epoch 15/100\n",
            "37/37 [==============================] - 0s 4ms/step - loss: 0.2083 - accuracy: 0.9153 - val_loss: 0.1763 - val_accuracy: 0.9229\n",
            "Epoch 16/100\n",
            "37/37 [==============================] - 0s 3ms/step - loss: 0.2060 - accuracy: 0.9153 - val_loss: 0.1723 - val_accuracy: 0.9247\n",
            "Epoch 17/100\n",
            "37/37 [==============================] - 0s 3ms/step - loss: 0.1874 - accuracy: 0.9196 - val_loss: 0.1721 - val_accuracy: 0.9212\n",
            "Epoch 18/100\n",
            "37/37 [==============================] - 0s 3ms/step - loss: 0.1972 - accuracy: 0.9127 - val_loss: 0.1575 - val_accuracy: 0.9387\n",
            "Epoch 19/100\n",
            "37/37 [==============================] - 0s 3ms/step - loss: 0.1818 - accuracy: 0.9239 - val_loss: 0.1604 - val_accuracy: 0.9229\n",
            "Epoch 20/100\n",
            "37/37 [==============================] - 0s 3ms/step - loss: 0.1653 - accuracy: 0.9291 - val_loss: 0.1497 - val_accuracy: 0.9317\n",
            "Epoch 21/100\n",
            "37/37 [==============================] - 0s 3ms/step - loss: 0.1402 - accuracy: 0.9507 - val_loss: 0.1439 - val_accuracy: 0.9370\n",
            "Epoch 22/100\n",
            "37/37 [==============================] - 0s 3ms/step - loss: 0.1524 - accuracy: 0.9378 - val_loss: 0.1370 - val_accuracy: 0.9370\n",
            "Epoch 23/100\n",
            "37/37 [==============================] - 0s 3ms/step - loss: 0.1632 - accuracy: 0.9360 - val_loss: 0.1335 - val_accuracy: 0.9422\n",
            "Epoch 24/100\n",
            "37/37 [==============================] - 0s 3ms/step - loss: 0.1491 - accuracy: 0.9404 - val_loss: 0.1261 - val_accuracy: 0.9422\n",
            "Epoch 25/100\n",
            "37/37 [==============================] - 0s 4ms/step - loss: 0.1255 - accuracy: 0.9481 - val_loss: 0.1246 - val_accuracy: 0.9405\n",
            "Epoch 26/100\n",
            "37/37 [==============================] - 0s 3ms/step - loss: 0.1402 - accuracy: 0.9455 - val_loss: 0.1177 - val_accuracy: 0.9457\n",
            "Epoch 27/100\n",
            "37/37 [==============================] - 0s 3ms/step - loss: 0.1310 - accuracy: 0.9473 - val_loss: 0.1242 - val_accuracy: 0.9457\n",
            "Epoch 28/100\n",
            "37/37 [==============================] - 0s 4ms/step - loss: 0.1312 - accuracy: 0.9525 - val_loss: 0.1206 - val_accuracy: 0.9405\n",
            "Epoch 29/100\n",
            "37/37 [==============================] - 0s 3ms/step - loss: 0.1116 - accuracy: 0.9594 - val_loss: 0.1145 - val_accuracy: 0.9457\n",
            "Epoch 30/100\n",
            "37/37 [==============================] - 0s 3ms/step - loss: 0.0941 - accuracy: 0.9697 - val_loss: 0.1160 - val_accuracy: 0.9475\n",
            "Epoch 31/100\n",
            "37/37 [==============================] - 0s 3ms/step - loss: 0.1272 - accuracy: 0.9473 - val_loss: 0.1076 - val_accuracy: 0.9527\n",
            "Epoch 32/100\n",
            "37/37 [==============================] - 0s 3ms/step - loss: 0.1023 - accuracy: 0.9611 - val_loss: 0.0998 - val_accuracy: 0.9527\n",
            "Epoch 33/100\n",
            "37/37 [==============================] - 0s 3ms/step - loss: 0.1001 - accuracy: 0.9620 - val_loss: 0.1019 - val_accuracy: 0.9562\n",
            "Epoch 34/100\n",
            "37/37 [==============================] - 0s 3ms/step - loss: 0.1229 - accuracy: 0.9481 - val_loss: 0.1102 - val_accuracy: 0.9475\n",
            "Epoch 35/100\n",
            "37/37 [==============================] - 0s 3ms/step - loss: 0.1007 - accuracy: 0.9620 - val_loss: 0.1000 - val_accuracy: 0.9492\n",
            "Epoch 36/100\n",
            "37/37 [==============================] - 0s 3ms/step - loss: 0.0916 - accuracy: 0.9646 - val_loss: 0.1006 - val_accuracy: 0.9562\n",
            "Epoch 37/100\n",
            "37/37 [==============================] - 0s 3ms/step - loss: 0.0841 - accuracy: 0.9689 - val_loss: 0.0949 - val_accuracy: 0.9615\n",
            "Epoch 38/100\n",
            "37/37 [==============================] - 0s 3ms/step - loss: 0.0834 - accuracy: 0.9723 - val_loss: 0.0955 - val_accuracy: 0.9580\n",
            "Epoch 39/100\n",
            "37/37 [==============================] - 0s 3ms/step - loss: 0.0867 - accuracy: 0.9680 - val_loss: 0.0933 - val_accuracy: 0.9545\n",
            "Epoch 40/100\n",
            "37/37 [==============================] - 0s 3ms/step - loss: 0.0717 - accuracy: 0.9749 - val_loss: 0.0905 - val_accuracy: 0.9545\n",
            "Epoch 41/100\n",
            "37/37 [==============================] - 0s 3ms/step - loss: 0.0768 - accuracy: 0.9723 - val_loss: 0.0883 - val_accuracy: 0.9597\n",
            "Epoch 42/100\n",
            "37/37 [==============================] - 0s 3ms/step - loss: 0.0806 - accuracy: 0.9706 - val_loss: 0.0926 - val_accuracy: 0.9545\n",
            "Epoch 43/100\n",
            "37/37 [==============================] - 0s 3ms/step - loss: 0.0730 - accuracy: 0.9767 - val_loss: 0.0895 - val_accuracy: 0.9562\n",
            "Epoch 44/100\n",
            "37/37 [==============================] - 0s 3ms/step - loss: 0.0723 - accuracy: 0.9767 - val_loss: 0.0984 - val_accuracy: 0.9562\n",
            "Epoch 45/100\n",
            "37/37 [==============================] - 0s 3ms/step - loss: 0.0933 - accuracy: 0.9654 - val_loss: 0.0807 - val_accuracy: 0.9615\n",
            "Epoch 46/100\n",
            "37/37 [==============================] - 0s 3ms/step - loss: 0.0793 - accuracy: 0.9723 - val_loss: 0.0804 - val_accuracy: 0.9615\n",
            "Epoch 47/100\n",
            "37/37 [==============================] - 0s 3ms/step - loss: 0.0789 - accuracy: 0.9758 - val_loss: 0.0679 - val_accuracy: 0.9702\n",
            "Epoch 48/100\n",
            "37/37 [==============================] - 0s 3ms/step - loss: 0.0697 - accuracy: 0.9749 - val_loss: 0.0739 - val_accuracy: 0.9702\n",
            "Epoch 49/100\n",
            "37/37 [==============================] - 0s 3ms/step - loss: 0.0712 - accuracy: 0.9758 - val_loss: 0.0791 - val_accuracy: 0.9632\n",
            "Epoch 50/100\n",
            "37/37 [==============================] - 0s 3ms/step - loss: 0.0654 - accuracy: 0.9758 - val_loss: 0.0698 - val_accuracy: 0.9702\n",
            "Epoch 51/100\n",
            "37/37 [==============================] - 0s 3ms/step - loss: 0.0530 - accuracy: 0.9818 - val_loss: 0.0883 - val_accuracy: 0.9685\n",
            "Epoch 52/100\n",
            "37/37 [==============================] - 0s 3ms/step - loss: 0.0733 - accuracy: 0.9767 - val_loss: 0.0681 - val_accuracy: 0.9702\n",
            "Epoch 53/100\n",
            "37/37 [==============================] - 0s 3ms/step - loss: 0.0585 - accuracy: 0.9827 - val_loss: 0.0662 - val_accuracy: 0.9755\n",
            "Epoch 54/100\n",
            "37/37 [==============================] - 0s 3ms/step - loss: 0.0542 - accuracy: 0.9818 - val_loss: 0.0725 - val_accuracy: 0.9667\n",
            "Epoch 55/100\n",
            "37/37 [==============================] - 0s 3ms/step - loss: 0.0523 - accuracy: 0.9784 - val_loss: 0.0738 - val_accuracy: 0.9667\n",
            "Epoch 56/100\n",
            "37/37 [==============================] - 0s 3ms/step - loss: 0.0584 - accuracy: 0.9784 - val_loss: 0.0627 - val_accuracy: 0.9737\n",
            "Epoch 57/100\n",
            "37/37 [==============================] - 0s 3ms/step - loss: 0.0564 - accuracy: 0.9801 - val_loss: 0.0548 - val_accuracy: 0.9772\n",
            "Epoch 58/100\n",
            "37/37 [==============================] - 0s 3ms/step - loss: 0.0480 - accuracy: 0.9853 - val_loss: 0.0621 - val_accuracy: 0.9755\n",
            "Epoch 59/100\n",
            "37/37 [==============================] - 0s 3ms/step - loss: 0.0456 - accuracy: 0.9827 - val_loss: 0.0674 - val_accuracy: 0.9737\n",
            "Epoch 60/100\n",
            "37/37 [==============================] - 0s 3ms/step - loss: 0.0394 - accuracy: 0.9879 - val_loss: 0.0674 - val_accuracy: 0.9720\n",
            "Epoch 61/100\n",
            "37/37 [==============================] - 0s 3ms/step - loss: 0.0484 - accuracy: 0.9818 - val_loss: 0.0543 - val_accuracy: 0.9755\n",
            "Epoch 62/100\n",
            "37/37 [==============================] - 0s 3ms/step - loss: 0.0771 - accuracy: 0.9715 - val_loss: 0.0595 - val_accuracy: 0.9772\n",
            "Epoch 63/100\n",
            "37/37 [==============================] - 0s 3ms/step - loss: 0.0530 - accuracy: 0.9810 - val_loss: 0.0504 - val_accuracy: 0.9772\n",
            "Epoch 64/100\n",
            "37/37 [==============================] - 0s 3ms/step - loss: 0.0560 - accuracy: 0.9836 - val_loss: 0.0655 - val_accuracy: 0.9755\n",
            "Epoch 65/100\n",
            "37/37 [==============================] - 0s 3ms/step - loss: 0.0479 - accuracy: 0.9853 - val_loss: 0.0547 - val_accuracy: 0.9772\n",
            "Epoch 66/100\n",
            "37/37 [==============================] - 0s 3ms/step - loss: 0.0396 - accuracy: 0.9870 - val_loss: 0.0655 - val_accuracy: 0.9720\n",
            "Epoch 67/100\n",
            "37/37 [==============================] - 0s 3ms/step - loss: 0.0571 - accuracy: 0.9818 - val_loss: 0.0549 - val_accuracy: 0.9772\n",
            "Epoch 68/100\n",
            "37/37 [==============================] - 0s 3ms/step - loss: 0.0500 - accuracy: 0.9801 - val_loss: 0.0536 - val_accuracy: 0.9772\n",
            "Epoch 69/100\n",
            "37/37 [==============================] - 0s 3ms/step - loss: 0.0415 - accuracy: 0.9879 - val_loss: 0.0551 - val_accuracy: 0.9737\n",
            "Epoch 70/100\n",
            "37/37 [==============================] - 0s 3ms/step - loss: 0.0454 - accuracy: 0.9870 - val_loss: 0.0538 - val_accuracy: 0.9790\n",
            "Epoch 71/100\n",
            "37/37 [==============================] - 0s 3ms/step - loss: 0.0341 - accuracy: 0.9862 - val_loss: 0.0460 - val_accuracy: 0.9825\n",
            "Epoch 72/100\n",
            "37/37 [==============================] - 0s 3ms/step - loss: 0.0411 - accuracy: 0.9853 - val_loss: 0.0505 - val_accuracy: 0.9807\n",
            "Epoch 73/100\n",
            "37/37 [==============================] - 0s 3ms/step - loss: 0.0391 - accuracy: 0.9879 - val_loss: 0.0532 - val_accuracy: 0.9790\n",
            "Epoch 74/100\n",
            "37/37 [==============================] - 0s 4ms/step - loss: 0.0370 - accuracy: 0.9905 - val_loss: 0.0491 - val_accuracy: 0.9790\n",
            "Epoch 75/100\n",
            "37/37 [==============================] - 0s 3ms/step - loss: 0.0392 - accuracy: 0.9862 - val_loss: 0.0603 - val_accuracy: 0.9720\n",
            "Epoch 76/100\n",
            "37/37 [==============================] - 0s 3ms/step - loss: 0.0375 - accuracy: 0.9870 - val_loss: 0.0478 - val_accuracy: 0.9825\n",
            "Epoch 77/100\n",
            "37/37 [==============================] - 0s 3ms/step - loss: 0.0401 - accuracy: 0.9888 - val_loss: 0.0439 - val_accuracy: 0.9825\n",
            "Epoch 78/100\n",
            "37/37 [==============================] - 0s 3ms/step - loss: 0.0532 - accuracy: 0.9844 - val_loss: 0.0559 - val_accuracy: 0.9790\n",
            "Epoch 79/100\n",
            "37/37 [==============================] - 0s 3ms/step - loss: 0.0308 - accuracy: 0.9905 - val_loss: 0.0549 - val_accuracy: 0.9772\n",
            "Epoch 80/100\n",
            "37/37 [==============================] - 0s 3ms/step - loss: 0.0490 - accuracy: 0.9818 - val_loss: 0.0514 - val_accuracy: 0.9772\n",
            "Epoch 81/100\n",
            "37/37 [==============================] - 0s 3ms/step - loss: 0.0421 - accuracy: 0.9853 - val_loss: 0.0549 - val_accuracy: 0.9772\n",
            "Epoch 82/100\n",
            "37/37 [==============================] - 0s 3ms/step - loss: 0.0338 - accuracy: 0.9922 - val_loss: 0.0458 - val_accuracy: 0.9842\n",
            "Epoch 83/100\n",
            "37/37 [==============================] - 0s 3ms/step - loss: 0.0413 - accuracy: 0.9879 - val_loss: 0.0817 - val_accuracy: 0.9737\n",
            "Epoch 84/100\n",
            "37/37 [==============================] - 0s 3ms/step - loss: 0.0368 - accuracy: 0.9888 - val_loss: 0.0457 - val_accuracy: 0.9772\n",
            "Epoch 85/100\n",
            "37/37 [==============================] - 0s 3ms/step - loss: 0.0363 - accuracy: 0.9870 - val_loss: 0.0440 - val_accuracy: 0.9807\n",
            "Epoch 86/100\n",
            "37/37 [==============================] - 0s 3ms/step - loss: 0.0372 - accuracy: 0.9870 - val_loss: 0.0507 - val_accuracy: 0.9825\n",
            "Epoch 87/100\n",
            "37/37 [==============================] - 0s 3ms/step - loss: 0.0344 - accuracy: 0.9905 - val_loss: 0.0434 - val_accuracy: 0.9790\n",
            "Epoch 88/100\n",
            "37/37 [==============================] - 0s 3ms/step - loss: 0.0361 - accuracy: 0.9888 - val_loss: 0.0602 - val_accuracy: 0.9755\n",
            "Epoch 89/100\n",
            "37/37 [==============================] - 0s 3ms/step - loss: 0.0287 - accuracy: 0.9896 - val_loss: 0.0516 - val_accuracy: 0.9772\n",
            "Epoch 90/100\n",
            "37/37 [==============================] - 0s 4ms/step - loss: 0.0310 - accuracy: 0.9879 - val_loss: 0.0523 - val_accuracy: 0.9772\n",
            "Epoch 91/100\n",
            "37/37 [==============================] - 0s 3ms/step - loss: 0.0257 - accuracy: 0.9905 - val_loss: 0.0514 - val_accuracy: 0.9772\n",
            "Epoch 92/100\n",
            "37/37 [==============================] - 0s 3ms/step - loss: 0.0286 - accuracy: 0.9914 - val_loss: 0.0565 - val_accuracy: 0.9772\n",
            "Epoch 93/100\n",
            "37/37 [==============================] - 0s 3ms/step - loss: 0.0383 - accuracy: 0.9879 - val_loss: 0.0531 - val_accuracy: 0.9755\n",
            "Epoch 94/100\n",
            "37/37 [==============================] - 0s 3ms/step - loss: 0.0236 - accuracy: 0.9914 - val_loss: 0.0659 - val_accuracy: 0.9720\n",
            "Epoch 95/100\n",
            "37/37 [==============================] - 0s 3ms/step - loss: 0.0241 - accuracy: 0.9931 - val_loss: 0.0602 - val_accuracy: 0.9720\n",
            "Epoch 96/100\n",
            "37/37 [==============================] - 0s 3ms/step - loss: 0.0358 - accuracy: 0.9888 - val_loss: 0.0483 - val_accuracy: 0.9842\n",
            "Epoch 97/100\n",
            "37/37 [==============================] - 0s 3ms/step - loss: 0.0395 - accuracy: 0.9905 - val_loss: 0.0561 - val_accuracy: 0.9737\n",
            "Epoch 98/100\n",
            "37/37 [==============================] - 0s 3ms/step - loss: 0.0229 - accuracy: 0.9896 - val_loss: 0.0448 - val_accuracy: 0.9790\n",
            "Epoch 99/100\n",
            "37/37 [==============================] - 0s 3ms/step - loss: 0.0262 - accuracy: 0.9914 - val_loss: 0.0488 - val_accuracy: 0.9755\n",
            "Epoch 100/100\n",
            "37/37 [==============================] - 0s 3ms/step - loss: 0.0301 - accuracy: 0.9922 - val_loss: 0.0465 - val_accuracy: 0.9807\n"
          ],
          "name": "stdout"
        }
      ]
    },
    {
      "cell_type": "code",
      "metadata": {
        "id": "eRxzOKGw3F5A",
        "colab": {
          "base_uri": "https://localhost:8080/",
          "height": 264
        },
        "outputId": "5540f50d-9f8f-423c-8d7c-007df9535358"
      },
      "source": [
        "car_evaluation_classifier.plot_loss(model)"
      ],
      "execution_count": 14,
      "outputs": [
        {
          "output_type": "display_data",
          "data": {
            "image/png": "[encoded data removed]",
            "text/plain": [
              "<Figure size 432x288 with 1 Axes>"
            ]
          },
          "metadata": {
            "tags": [],
            "needs_background": "light"
          }
        }
      ]
    },
    {
      "cell_type": "code",
      "metadata": {
        "id": "Ppn6-pj3hSK-",
        "colab": {
          "base_uri": "https://localhost:8080/",
          "height": 264
        },
        "outputId": "090e7d6b-87b4-49ab-c166-6e29dd358db0"
      },
      "source": [
        "car_evaluation_classifier.plot_accuracy(model)"
      ],
      "execution_count": 15,
      "outputs": [
        {
          "output_type": "display_data",
          "data": {
            "image/png": "[encoded data removed]",
            "text/plain": [
              "<Figure size 432x288 with 1 Axes>"
            ]
          },
          "metadata": {
            "tags": [],
            "needs_background": "light"
          }
        }
      ]
    },
    {
      "cell_type": "code",
      "metadata": {
        "id": "XhPMuVxljo8R"
      },
      "source": [
        ""
      ],
      "execution_count": null,
      "outputs": []
    }
  ]
}